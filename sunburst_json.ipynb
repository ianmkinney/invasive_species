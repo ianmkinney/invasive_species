{
 "cells": [
  {
   "cell_type": "code",
   "execution_count": 1,
   "source": [
    "import pandas as pd"
   ],
   "outputs": [],
   "metadata": {}
  },
  {
   "cell_type": "code",
   "execution_count": 4,
   "source": [
    "dbDf = pd.read_csv('static/data/database.csv')\n",
    "\n",
    "dbDf.head()"
   ],
   "outputs": [
    {
     "output_type": "execute_result",
     "data": {
      "text/html": [
       "<div>\n",
       "<style scoped>\n",
       "    .dataframe tbody tr th:only-of-type {\n",
       "        vertical-align: middle;\n",
       "    }\n",
       "\n",
       "    .dataframe tbody tr th {\n",
       "        vertical-align: top;\n",
       "    }\n",
       "\n",
       "    .dataframe thead th {\n",
       "        text-align: right;\n",
       "    }\n",
       "</style>\n",
       "<table border=\"1\" class=\"dataframe\">\n",
       "  <thead>\n",
       "    <tr style=\"text-align: right;\">\n",
       "      <th></th>\n",
       "      <th>index</th>\n",
       "      <th>time_observed_at</th>\n",
       "      <th>species_guess</th>\n",
       "      <th>place_guess</th>\n",
       "      <th>location</th>\n",
       "      <th>iconic_taxon_name</th>\n",
       "      <th>name</th>\n",
       "      <th>preferred_common_name</th>\n",
       "      <th>wikipedia_url</th>\n",
       "      <th>category</th>\n",
       "    </tr>\n",
       "  </thead>\n",
       "  <tbody>\n",
       "    <tr>\n",
       "      <th>0</th>\n",
       "      <td>0</td>\n",
       "      <td>2021-10-03T19:02:00-04:00</td>\n",
       "      <td>beefsteak plant</td>\n",
       "      <td>Stone Throw Ct, Stone Mountain, GA, US</td>\n",
       "      <td>{33.775305,-84.1047971667}</td>\n",
       "      <td>Plantae</td>\n",
       "      <td>Perilla frutescens</td>\n",
       "      <td>beefsteak plant</td>\n",
       "      <td>http://en.wikipedia.org/wiki/Perilla_frutescens</td>\n",
       "      <td>Introduced</td>\n",
       "    </tr>\n",
       "    <tr>\n",
       "      <th>1</th>\n",
       "      <td>1</td>\n",
       "      <td>2021-10-03T22:23:24-04:00</td>\n",
       "      <td>Mediterranean House Gecko</td>\n",
       "      <td>Rocking Horse Ln, Pooler, GA, US</td>\n",
       "      <td>{32.165454221,-81.2527658791}</td>\n",
       "      <td>Reptilia</td>\n",
       "      <td>Hemidactylus turcicus</td>\n",
       "      <td>Mediterranean House Gecko</td>\n",
       "      <td>http://en.wikipedia.org/wiki/Mediterranean_hou...</td>\n",
       "      <td>Introduced</td>\n",
       "    </tr>\n",
       "    <tr>\n",
       "      <th>2</th>\n",
       "      <td>2</td>\n",
       "      <td>2021-10-03T14:10:58-04:00</td>\n",
       "      <td>common fig</td>\n",
       "      <td>Elm Dr, Forest Park, GA, US</td>\n",
       "      <td>{33.5914216667,-84.36065}</td>\n",
       "      <td>Plantae</td>\n",
       "      <td>Ficus carica</td>\n",
       "      <td>common fig</td>\n",
       "      <td>http://en.wikipedia.org/wiki/Common_fig</td>\n",
       "      <td>Introduced</td>\n",
       "    </tr>\n",
       "    <tr>\n",
       "      <th>3</th>\n",
       "      <td>3</td>\n",
       "      <td>2021-10-02T13:28:41-04:00</td>\n",
       "      <td>Brown Anole</td>\n",
       "      <td>Montgomery St, Savannah, GA, US</td>\n",
       "      <td>{32.0475278333,-81.1092}</td>\n",
       "      <td>Reptilia</td>\n",
       "      <td>Anolis sagrei</td>\n",
       "      <td>Brown Anole</td>\n",
       "      <td>http://en.wikipedia.org/wiki/Brown_anole</td>\n",
       "      <td>Introduced</td>\n",
       "    </tr>\n",
       "    <tr>\n",
       "      <th>4</th>\n",
       "      <td>4</td>\n",
       "      <td>2021-10-03T18:02:00-04:00</td>\n",
       "      <td>Heavenly bamboo</td>\n",
       "      <td>Morrow, GA 30260, USA</td>\n",
       "      <td>{33.5784833333,-84.3368833333}</td>\n",
       "      <td>Plantae</td>\n",
       "      <td>Nandina domestica</td>\n",
       "      <td>Heavenly bamboo</td>\n",
       "      <td>https://en.wikipedia.org/wiki/Nandina</td>\n",
       "      <td>Introduced</td>\n",
       "    </tr>\n",
       "  </tbody>\n",
       "</table>\n",
       "</div>"
      ],
      "text/plain": [
       "   index           time_observed_at              species_guess  \\\n",
       "0      0  2021-10-03T19:02:00-04:00            beefsteak plant   \n",
       "1      1  2021-10-03T22:23:24-04:00  Mediterranean House Gecko   \n",
       "2      2  2021-10-03T14:10:58-04:00                 common fig   \n",
       "3      3  2021-10-02T13:28:41-04:00                Brown Anole   \n",
       "4      4  2021-10-03T18:02:00-04:00            Heavenly bamboo   \n",
       "\n",
       "                              place_guess                        location  \\\n",
       "0  Stone Throw Ct, Stone Mountain, GA, US      {33.775305,-84.1047971667}   \n",
       "1        Rocking Horse Ln, Pooler, GA, US   {32.165454221,-81.2527658791}   \n",
       "2             Elm Dr, Forest Park, GA, US       {33.5914216667,-84.36065}   \n",
       "3         Montgomery St, Savannah, GA, US        {32.0475278333,-81.1092}   \n",
       "4                   Morrow, GA 30260, USA  {33.5784833333,-84.3368833333}   \n",
       "\n",
       "  iconic_taxon_name                   name      preferred_common_name  \\\n",
       "0           Plantae     Perilla frutescens            beefsteak plant   \n",
       "1          Reptilia  Hemidactylus turcicus  Mediterranean House Gecko   \n",
       "2           Plantae           Ficus carica                 common fig   \n",
       "3          Reptilia          Anolis sagrei                Brown Anole   \n",
       "4           Plantae      Nandina domestica            Heavenly bamboo   \n",
       "\n",
       "                                       wikipedia_url    category  \n",
       "0    http://en.wikipedia.org/wiki/Perilla_frutescens  Introduced  \n",
       "1  http://en.wikipedia.org/wiki/Mediterranean_hou...  Introduced  \n",
       "2            http://en.wikipedia.org/wiki/Common_fig  Introduced  \n",
       "3           http://en.wikipedia.org/wiki/Brown_anole  Introduced  \n",
       "4              https://en.wikipedia.org/wiki/Nandina  Introduced  "
      ]
     },
     "metadata": {},
     "execution_count": 4
    }
   ],
   "metadata": {}
  },
  {
   "cell_type": "code",
   "execution_count": 18,
   "source": [
    "test_df = dbDf.groupby(by='preferred_common_name', as_index=False).sum()\n",
    "#test_df = test_df['preferred_common_name','sum']\n",
    "test_df.reset_index\n",
    "test_df.columns"
   ],
   "outputs": [
    {
     "output_type": "execute_result",
     "data": {
      "text/plain": [
       "Index(['preferred_common_name', 'index'], dtype='object')"
      ]
     },
     "metadata": {},
     "execution_count": 18
    }
   ],
   "metadata": {}
  },
  {
   "cell_type": "code",
   "execution_count": 36,
   "source": [
    "import json\n",
    "\n",
    "final_children = []\n",
    "for category in dbDf['category'].unique():\n",
    "    start_children = []\n",
    "    category_df = dbDf[(dbDf['category'] == category)]\n",
    "    for name in dbDf['iconic_taxon_name'].unique():\n",
    "        taxon_children = []\n",
    "        taxon_df = category_df[(category_df['iconic_taxon_name'] == name)]\n",
    "        taxon_df = taxon_df.groupby(by='preferred_common_name', as_index=False).sum()\n",
    "        for index, taxon in taxon_df.iterrows():\n",
    "            temp_dict = {\"name\": taxon['preferred_common_name'], \"value\": taxon['index']}\n",
    "            taxon_children.append(temp_dict)\n",
    "        taxon_dict = {\"name\": name, \"children\": taxon_children}\n",
    "        start_children.append(taxon_dict)\n",
    "    start_json = {\"name\": category, \"children\": start_children}\n",
    "    final_children.append(start_json)\n",
    "    with open(f'static/data/data_{category}.json', 'w+') as outfile:\n",
    "        json.dump(start_json, outfile)"
   ],
   "outputs": [],
   "metadata": {}
  }
 ],
 "metadata": {
  "orig_nbformat": 4,
  "language_info": {
   "name": "python",
   "version": "3.8.8",
   "mimetype": "text/x-python",
   "codemirror_mode": {
    "name": "ipython",
    "version": 3
   },
   "pygments_lexer": "ipython3",
   "nbconvert_exporter": "python",
   "file_extension": ".py"
  },
  "kernelspec": {
   "name": "python3",
   "display_name": "Python 3.8.8 64-bit ('base': conda)"
  },
  "interpreter": {
   "hash": "6ae5a69d51937321194477b0fe6b784bc91adc50b6dc6daadd06e0a4296b18e7"
  }
 },
 "nbformat": 4,
 "nbformat_minor": 2
}