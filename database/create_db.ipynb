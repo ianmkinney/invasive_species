{
 "cells": [
  {
   "cell_type": "code",
   "execution_count": 2,
   "source": [
    "from sqlalchemy import create_engine"
   ],
   "outputs": [],
   "metadata": {}
  },
  {
   "cell_type": "code",
   "execution_count": 3,
   "source": [
    "from pyinaturalist import *\n",
    "import json \n",
    "import pandas as pd\n",
    "import time\n",
    "\n",
    "# Bounding Box for Georgia, USA\n",
    "# [South Latitude, North Latitude, West Longitude, East Longitude]\n",
    "# [-85.606749,30.359092,-80.843756,35.000591]\n",
    "\n",
    "observationsSep = get_observations(place_id=23, per_page=200, introduced=True, quality_grade='research', month=9)\n",
    "observationsAug = get_observations(place_id=23, per_page=200, introduced=True, quality_grade='research', month=8)\n",
    "observationsJul = get_observations(place_id=23, per_page=200, introduced=True, quality_grade='research', month=7)\n",
    "observationsJun = get_observations(place_id=23, per_page=200, introduced=True, quality_grade='research', month=6)\n",
    "observationsMay = get_observations(place_id=23, per_page=200, introduced=True, quality_grade='research', month=5)\n",
    "\n",
    "dfs = []\n",
    "\n",
    "dfSep = pd.DataFrame(observationsSep['results'])\n",
    "dfs.append(dfSep)\n",
    "dfAug = pd.DataFrame(observationsAug['results'])\n",
    "dfs.append(dfAug)\n",
    "dfJul = pd.DataFrame(observationsJul['results'])\n",
    "dfs.append(dfJul)\n",
    "dfJun = pd.DataFrame(observationsJun['results'])\n",
    "dfs.append(dfJun)\n",
    "dfMay = pd.DataFrame(observationsMay['results'])\n",
    "dfs.append(dfMay)"
   ],
   "outputs": [],
   "metadata": {}
  },
  {
   "cell_type": "code",
   "execution_count": 4,
   "source": [
    "updated_dfs = []\n",
    "for df in dfs:\n",
    "    new_df = df[['time_observed_at', 'species_guess', 'place_guess', 'location']]\n",
    "    updated_dfs.append(new_df)\n",
    "\n",
    "updated_dfs[0].head()"
   ],
   "outputs": [
    {
     "output_type": "execute_result",
     "data": {
      "text/html": [
       "<div>\n",
       "<style scoped>\n",
       "    .dataframe tbody tr th:only-of-type {\n",
       "        vertical-align: middle;\n",
       "    }\n",
       "\n",
       "    .dataframe tbody tr th {\n",
       "        vertical-align: top;\n",
       "    }\n",
       "\n",
       "    .dataframe thead th {\n",
       "        text-align: right;\n",
       "    }\n",
       "</style>\n",
       "<table border=\"1\" class=\"dataframe\">\n",
       "  <thead>\n",
       "    <tr style=\"text-align: right;\">\n",
       "      <th></th>\n",
       "      <th>time_observed_at</th>\n",
       "      <th>species_guess</th>\n",
       "      <th>place_guess</th>\n",
       "      <th>location</th>\n",
       "    </tr>\n",
       "  </thead>\n",
       "  <tbody>\n",
       "    <tr>\n",
       "      <th>0</th>\n",
       "      <td>2021-09-30T12:56:57-04:00</td>\n",
       "      <td>Jorō Spider</td>\n",
       "      <td>Brook Run Dog Park, Dunwoody, GA, US</td>\n",
       "      <td>[33.9330116667, -84.29798]</td>\n",
       "    </tr>\n",
       "    <tr>\n",
       "      <th>1</th>\n",
       "      <td>2021-09-30T09:30:00-04:00</td>\n",
       "      <td>Jorō Spider</td>\n",
       "      <td>Golden Leaf Trail, Peachtree Corners, GA, US</td>\n",
       "      <td>[33.9799955244, -84.2220214651]</td>\n",
       "    </tr>\n",
       "    <tr>\n",
       "      <th>2</th>\n",
       "      <td>2021-09-27T20:32:49-04:00</td>\n",
       "      <td>red spider lily</td>\n",
       "      <td>S West St, Bainbridge, GA, US</td>\n",
       "      <td>[30.8995533333, -84.5765133333]</td>\n",
       "    </tr>\n",
       "    <tr>\n",
       "      <th>3</th>\n",
       "      <td>2021-09-30T18:44:00-04:00</td>\n",
       "      <td>Jorō Spider</td>\n",
       "      <td>Sagamore Hills, Atlanta, GA 30345, USA</td>\n",
       "      <td>[33.8274908, -84.2999369]</td>\n",
       "    </tr>\n",
       "    <tr>\n",
       "      <th>4</th>\n",
       "      <td>2021-09-30T23:35:43-04:00</td>\n",
       "      <td>Leopard Slug</td>\n",
       "      <td>Young Harris College, Young Harris, GA, US</td>\n",
       "      <td>[34.932095, -83.8455883333]</td>\n",
       "    </tr>\n",
       "  </tbody>\n",
       "</table>\n",
       "</div>"
      ]
     },
     "metadata": {},
     "execution_count": 4
    }
   ],
   "metadata": {}
  },
  {
   "cell_type": "code",
   "execution_count": 7,
   "source": [
    "DATABASE_URL = 'CONNECTION STRING HERE'\n",
    "\n",
    "\n",
    "db = create_engine(DATABASE_URL)\n",
    "\n",
    "conn = db.connect()\n",
    "\n",
    "updated_dfs[0].to_sql('observations', con=conn, if_exists='replace')\n",
    "\n",
    "for df in updated_dfs[1:]:\n",
    "    df.to_sql('observations', con=conn, if_exists='append')"
   ],
   "outputs": [],
   "metadata": {}
  },
  {
   "cell_type": "code",
   "execution_count": 8,
   "source": [
    "test_df = pd.read_sql(\"SELECT * FROM observations\", con=conn)\n",
    "conn.close()"
   ],
   "outputs": [],
   "metadata": {}
  },
  {
   "cell_type": "code",
   "execution_count": 9,
   "source": [
    "test_df.head()"
   ],
   "outputs": [
    {
     "output_type": "execute_result",
     "data": {
      "text/html": [
       "<div>\n",
       "<style scoped>\n",
       "    .dataframe tbody tr th:only-of-type {\n",
       "        vertical-align: middle;\n",
       "    }\n",
       "\n",
       "    .dataframe tbody tr th {\n",
       "        vertical-align: top;\n",
       "    }\n",
       "\n",
       "    .dataframe thead th {\n",
       "        text-align: right;\n",
       "    }\n",
       "</style>\n",
       "<table border=\"1\" class=\"dataframe\">\n",
       "  <thead>\n",
       "    <tr style=\"text-align: right;\">\n",
       "      <th></th>\n",
       "      <th>index</th>\n",
       "      <th>time_observed_at</th>\n",
       "      <th>species_guess</th>\n",
       "      <th>place_guess</th>\n",
       "      <th>location</th>\n",
       "    </tr>\n",
       "  </thead>\n",
       "  <tbody>\n",
       "    <tr>\n",
       "      <th>0</th>\n",
       "      <td>0</td>\n",
       "      <td>2021-09-30T12:56:57-04:00</td>\n",
       "      <td>Jorō Spider</td>\n",
       "      <td>Brook Run Dog Park, Dunwoody, GA, US</td>\n",
       "      <td>{33.9330116667,-84.29798}</td>\n",
       "    </tr>\n",
       "    <tr>\n",
       "      <th>1</th>\n",
       "      <td>1</td>\n",
       "      <td>2021-09-30T09:30:00-04:00</td>\n",
       "      <td>Jorō Spider</td>\n",
       "      <td>Golden Leaf Trail, Peachtree Corners, GA, US</td>\n",
       "      <td>{33.9799955244,-84.2220214651}</td>\n",
       "    </tr>\n",
       "    <tr>\n",
       "      <th>2</th>\n",
       "      <td>2</td>\n",
       "      <td>2021-09-27T20:32:49-04:00</td>\n",
       "      <td>red spider lily</td>\n",
       "      <td>S West St, Bainbridge, GA, US</td>\n",
       "      <td>{30.8995533333,-84.5765133333}</td>\n",
       "    </tr>\n",
       "    <tr>\n",
       "      <th>3</th>\n",
       "      <td>3</td>\n",
       "      <td>2021-09-30T18:44:00-04:00</td>\n",
       "      <td>Jorō Spider</td>\n",
       "      <td>Sagamore Hills, Atlanta, GA 30345, USA</td>\n",
       "      <td>{33.8274908,-84.2999369}</td>\n",
       "    </tr>\n",
       "    <tr>\n",
       "      <th>4</th>\n",
       "      <td>4</td>\n",
       "      <td>2021-09-30T23:35:43-04:00</td>\n",
       "      <td>Leopard Slug</td>\n",
       "      <td>Young Harris College, Young Harris, GA, US</td>\n",
       "      <td>{34.932095,-83.8455883333}</td>\n",
       "    </tr>\n",
       "  </tbody>\n",
       "</table>\n",
       "</div>"
      ]
     },
     "metadata": {},
     "execution_count": 9
    }
   ],
   "metadata": {}
  }
 ],
 "metadata": {
  "orig_nbformat": 4,
  "language_info": {
   "name": "python",
   "version": "3.8.8",
   "mimetype": "text/x-python",
   "codemirror_mode": {
    "name": "ipython",
    "version": 3
   },
   "pygments_lexer": "ipython3",
   "nbconvert_exporter": "python",
   "file_extension": ".py"
  },
  "kernelspec": {
   "name": "python3",
   "display_name": "Python 3.8.8 64-bit ('base': conda)"
  },
  "interpreter": {
   "hash": "6ae5a69d51937321194477b0fe6b784bc91adc50b6dc6daadd06e0a4296b18e7"
  }
 },
 "nbformat": 4,
 "nbformat_minor": 2
}