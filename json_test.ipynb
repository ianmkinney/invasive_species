{
 "cells": [
  {
   "cell_type": "code",
   "execution_count": 21,
   "source": [
    "from pyinaturalist import *\n",
    "import json \n",
    "import pandas as pd\n",
    "import time\n",
    "from sqlalchemy import create_engine\n",
    "from connection_string import connection_string"
   ],
   "outputs": [],
   "metadata": {}
  },
  {
   "cell_type": "code",
   "execution_count": 22,
   "source": [
    "observationsSep = get_observations(place_id=23, per_page=200, introduced=True, quality_grade='research', month=9)"
   ],
   "outputs": [],
   "metadata": {}
  },
  {
   "cell_type": "code",
   "execution_count": 37,
   "source": [
    "observationsSep['results'][1]['taxon']"
   ],
   "outputs": [
    {
     "output_type": "display_data",
     "data": {
      "text/html": [
       "<pre style=\"white-space:pre;overflow-x:auto;line-height:normal;font-family:Menlo,'DejaVu Sans Mono',consolas,'Courier New',monospace\">\n",
       "<span style=\"font-weight: bold\">{</span>\n",
       "    <span style=\"color: #008000; text-decoration-color: #008000\">'is_active'</span>: <span style=\"color: #00ff00; text-decoration-color: #00ff00; font-style: italic\">True</span>,\n",
       "    <span style=\"color: #008000; text-decoration-color: #008000\">'ancestry'</span>: <span style=\"color: #008000; text-decoration-color: #008000\">'48460/1/47120/245097/47119/47118/120474/342614/319384/47371/47370'</span>,\n",
       "    <span style=\"color: #008000; text-decoration-color: #008000\">'min_species_ancestry'</span>: <span style=\"color: #008000; text-decoration-color: #008000\">'48460,1,47120,245097,47119,47118,120474,342614,319384,47371,47370,47383'</span>,\n",
       "    <span style=\"color: #008000; text-decoration-color: #008000\">'endemic'</span>: <span style=\"color: #ff0000; text-decoration-color: #ff0000; font-style: italic\">False</span>,\n",
       "    <span style=\"color: #008000; text-decoration-color: #008000\">'iconic_taxon_id'</span>: <span style=\"color: #008080; text-decoration-color: #008080; font-weight: bold\">47119</span>,\n",
       "    <span style=\"color: #008000; text-decoration-color: #008000\">'min_species_taxon_id'</span>: <span style=\"color: #008080; text-decoration-color: #008080; font-weight: bold\">47383</span>,\n",
       "    <span style=\"color: #008000; text-decoration-color: #008000\">'threatened'</span>: <span style=\"color: #ff0000; text-decoration-color: #ff0000; font-style: italic\">False</span>,\n",
       "    <span style=\"color: #008000; text-decoration-color: #008000\">'rank_level'</span>: <span style=\"color: #008080; text-decoration-color: #008080; font-weight: bold\">10</span>,\n",
       "    <span style=\"color: #008000; text-decoration-color: #008000\">'introduced'</span>: <span style=\"color: #00ff00; text-decoration-color: #00ff00; font-style: italic\">True</span>,\n",
       "    <span style=\"color: #008000; text-decoration-color: #008000\">'native'</span>: <span style=\"color: #ff0000; text-decoration-color: #ff0000; font-style: italic\">False</span>,\n",
       "    <span style=\"color: #008000; text-decoration-color: #008000\">'parent_id'</span>: <span style=\"color: #008080; text-decoration-color: #008080; font-weight: bold\">47370</span>,\n",
       "    <span style=\"color: #008000; text-decoration-color: #008000\">'name'</span>: <span style=\"color: #008000; text-decoration-color: #008000\">'Latrodectus geometricus'</span>,\n",
       "    <span style=\"color: #008000; text-decoration-color: #008000\">'rank'</span>: <span style=\"color: #008000; text-decoration-color: #008000\">'species'</span>,\n",
       "    <span style=\"color: #008000; text-decoration-color: #008000\">'extinct'</span>: <span style=\"color: #ff0000; text-decoration-color: #ff0000; font-style: italic\">False</span>,\n",
       "    <span style=\"color: #008000; text-decoration-color: #008000\">'id'</span>: <span style=\"color: #008080; text-decoration-color: #008080; font-weight: bold\">47383</span>,\n",
       "    <span style=\"color: #008000; text-decoration-color: #008000\">'ancestor_ids'</span>: <span style=\"font-weight: bold\">[</span>\n",
       "        <span style=\"color: #008080; text-decoration-color: #008080; font-weight: bold\">48460</span>,\n",
       "        <span style=\"color: #008080; text-decoration-color: #008080; font-weight: bold\">1</span>,\n",
       "        <span style=\"color: #008080; text-decoration-color: #008080; font-weight: bold\">47120</span>,\n",
       "        <span style=\"color: #008080; text-decoration-color: #008080; font-weight: bold\">245097</span>,\n",
       "        <span style=\"color: #008080; text-decoration-color: #008080; font-weight: bold\">47119</span>,\n",
       "        <span style=\"color: #008080; text-decoration-color: #008080; font-weight: bold\">47118</span>,\n",
       "        <span style=\"color: #008080; text-decoration-color: #008080; font-weight: bold\">120474</span>,\n",
       "        <span style=\"color: #008080; text-decoration-color: #008080; font-weight: bold\">342614</span>,\n",
       "        <span style=\"color: #008080; text-decoration-color: #008080; font-weight: bold\">319384</span>,\n",
       "        <span style=\"color: #008080; text-decoration-color: #008080; font-weight: bold\">47371</span>,\n",
       "        <span style=\"color: #008080; text-decoration-color: #008080; font-weight: bold\">47370</span>,\n",
       "        <span style=\"color: #008080; text-decoration-color: #008080; font-weight: bold\">47383</span>\n",
       "    <span style=\"font-weight: bold\">]</span>,\n",
       "    <span style=\"color: #008000; text-decoration-color: #008000\">'photos_locked'</span>: <span style=\"color: #ff0000; text-decoration-color: #ff0000; font-style: italic\">False</span>,\n",
       "    <span style=\"color: #008000; text-decoration-color: #008000\">'taxon_schemes_count'</span>: <span style=\"color: #008080; text-decoration-color: #008080; font-weight: bold\">2</span>,\n",
       "    <span style=\"color: #008000; text-decoration-color: #008000\">'wikipedia_url'</span>: <span style=\"color: #008000; text-decoration-color: #008000\">'http://en.wikipedia.org/wiki/Latrodectus_geometricus'</span>,\n",
       "    <span style=\"color: #008000; text-decoration-color: #008000\">'current_synonymous_taxon_ids'</span>: <span style=\"color: #800080; text-decoration-color: #800080; font-style: italic\">None</span>,\n",
       "    <span style=\"color: #008000; text-decoration-color: #008000\">'created_at'</span>: <span style=\"color: #008000; text-decoration-color: #008000\">'2008-05-06T21:06:19+00:00'</span>,\n",
       "    <span style=\"color: #008000; text-decoration-color: #008000\">'taxon_changes_count'</span>: <span style=\"color: #008080; text-decoration-color: #008080; font-weight: bold\">0</span>,\n",
       "    <span style=\"color: #008000; text-decoration-color: #008000\">'complete_species_count'</span>: <span style=\"color: #800080; text-decoration-color: #800080; font-style: italic\">None</span>,\n",
       "    <span style=\"color: #008000; text-decoration-color: #008000\">'universal_search_rank'</span>: <span style=\"color: #008080; text-decoration-color: #008080; font-weight: bold\">9289</span>,\n",
       "    <span style=\"color: #008000; text-decoration-color: #008000\">'observations_count'</span>: <span style=\"color: #008080; text-decoration-color: #008080; font-weight: bold\">9289</span>,\n",
       "    <span style=\"color: #008000; text-decoration-color: #008000\">'flag_counts'</span>: <span style=\"font-weight: bold\">{</span><span style=\"color: #008000; text-decoration-color: #008000\">'resolved'</span>: <span style=\"color: #008080; text-decoration-color: #008080; font-weight: bold\">0</span>, <span style=\"color: #008000; text-decoration-color: #008000\">'unresolved'</span>: <span style=\"color: #008080; text-decoration-color: #008080; font-weight: bold\">0</span><span style=\"font-weight: bold\">}</span>,\n",
       "    <span style=\"color: #008000; text-decoration-color: #008000\">'atlas_id'</span>: <span style=\"color: #008080; text-decoration-color: #008080; font-weight: bold\">28692</span>,\n",
       "    <span style=\"color: #008000; text-decoration-color: #008000\">'complete_rank'</span>: <span style=\"color: #008000; text-decoration-color: #008000\">'subspecies'</span>,\n",
       "    <span style=\"color: #008000; text-decoration-color: #008000\">'default_photo'</span>: <span style=\"font-weight: bold\">{</span>\n",
       "        <span style=\"color: #008000; text-decoration-color: #008000\">'id'</span>: <span style=\"color: #008080; text-decoration-color: #008080; font-weight: bold\">32258527</span>,\n",
       "        <span style=\"color: #008000; text-decoration-color: #008000\">'license_code'</span>: <span style=\"color: #800080; text-decoration-color: #800080; font-style: italic\">None</span>,\n",
       "        <span style=\"color: #008000; text-decoration-color: #008000\">'attribution'</span>: <span style=\"color: #008000; text-decoration-color: #008000\">'(c) Vinícius Souza, todos los derechos reservados'</span>,\n",
       "        <span style=\"color: #008000; text-decoration-color: #008000\">'url'</span>: <span style=\"color: #008000; text-decoration-color: #008000\">'https://static.inaturalist.org/photos/32258527/square.jpg?1551592956'</span>,\n",
       "        <span style=\"color: #008000; text-decoration-color: #008000\">'original_dimensions'</span>: <span style=\"font-weight: bold\">{</span><span style=\"color: #008000; text-decoration-color: #008000\">'height'</span>: <span style=\"color: #008080; text-decoration-color: #008080; font-weight: bold\">1536</span>, <span style=\"color: #008000; text-decoration-color: #008000\">'width'</span>: <span style=\"color: #008080; text-decoration-color: #008080; font-weight: bold\">2048</span><span style=\"font-weight: bold\">}</span>,\n",
       "        <span style=\"color: #008000; text-decoration-color: #008000\">'flags'</span>: <span style=\"font-weight: bold\">[]</span>,\n",
       "        <span style=\"color: #008000; text-decoration-color: #008000\">'square_url'</span>: <span style=\"color: #008000; text-decoration-color: #008000\">'https://static.inaturalist.org/photos/32258527/square.jpg?1551592956'</span>,\n",
       "        <span style=\"color: #008000; text-decoration-color: #008000\">'medium_url'</span>: <span style=\"color: #008000; text-decoration-color: #008000\">'https://static.inaturalist.org/photos/32258527/medium.jpg?1551592956'</span>\n",
       "    <span style=\"font-weight: bold\">}</span>,\n",
       "    <span style=\"color: #008000; text-decoration-color: #008000\">'iconic_taxon_name'</span>: <span style=\"color: #008000; text-decoration-color: #008000\">'Arachnida'</span>,\n",
       "    <span style=\"color: #008000; text-decoration-color: #008000\">'preferred_common_name'</span>: <span style=\"color: #008000; text-decoration-color: #008000\">'Brown Widow'</span>,\n",
       "    <span style=\"color: #008000; text-decoration-color: #008000\">'establishment_means'</span>: <span style=\"font-weight: bold\">{</span>\n",
       "        <span style=\"color: #008000; text-decoration-color: #008000\">'id'</span>: <span style=\"color: #008080; text-decoration-color: #008080; font-weight: bold\">3011263</span>,\n",
       "        <span style=\"color: #008000; text-decoration-color: #008000\">'place_id'</span>: <span style=\"color: #008080; text-decoration-color: #008080; font-weight: bold\">23</span>,\n",
       "        <span style=\"color: #008000; text-decoration-color: #008000\">'user_id'</span>: <span style=\"color: #008080; text-decoration-color: #008080; font-weight: bold\">5692</span>,\n",
       "        <span style=\"color: #008000; text-decoration-color: #008000\">'occurrence_status_level'</span>: <span style=\"color: #800080; text-decoration-color: #800080; font-style: italic\">None</span>,\n",
       "        <span style=\"color: #008000; text-decoration-color: #008000\">'establishment_means'</span>: <span style=\"color: #008000; text-decoration-color: #008000\">'introduced'</span>\n",
       "    <span style=\"font-weight: bold\">}</span>,\n",
       "    <span style=\"color: #008000; text-decoration-color: #008000\">'preferred_establishment_means'</span>: <span style=\"color: #008000; text-decoration-color: #008000\">'introduced'</span>\n",
       "<span style=\"font-weight: bold\">}</span>\n",
       "</pre>\n"
      ],
      "text/plain": [
       "\n",
       "\u001b[1m{\u001b[0m\n",
       "    \u001b[32m'is_active'\u001b[0m: \u001b[3;92mTrue\u001b[0m,\n",
       "    \u001b[32m'ancestry'\u001b[0m: \u001b[32m'48460/1/47120/245097/47119/47118/120474/342614/319384/47371/47370'\u001b[0m,\n",
       "    \u001b[32m'min_species_ancestry'\u001b[0m: \u001b[32m'48460,1,47120,245097,47119,47118,120474,342614,319384,47371,47370,47383'\u001b[0m,\n",
       "    \u001b[32m'endemic'\u001b[0m: \u001b[3;91mFalse\u001b[0m,\n",
       "    \u001b[32m'iconic_taxon_id'\u001b[0m: \u001b[1;36m47119\u001b[0m,\n",
       "    \u001b[32m'min_species_taxon_id'\u001b[0m: \u001b[1;36m47383\u001b[0m,\n",
       "    \u001b[32m'threatened'\u001b[0m: \u001b[3;91mFalse\u001b[0m,\n",
       "    \u001b[32m'rank_level'\u001b[0m: \u001b[1;36m10\u001b[0m,\n",
       "    \u001b[32m'introduced'\u001b[0m: \u001b[3;92mTrue\u001b[0m,\n",
       "    \u001b[32m'native'\u001b[0m: \u001b[3;91mFalse\u001b[0m,\n",
       "    \u001b[32m'parent_id'\u001b[0m: \u001b[1;36m47370\u001b[0m,\n",
       "    \u001b[32m'name'\u001b[0m: \u001b[32m'Latrodectus geometricus'\u001b[0m,\n",
       "    \u001b[32m'rank'\u001b[0m: \u001b[32m'species'\u001b[0m,\n",
       "    \u001b[32m'extinct'\u001b[0m: \u001b[3;91mFalse\u001b[0m,\n",
       "    \u001b[32m'id'\u001b[0m: \u001b[1;36m47383\u001b[0m,\n",
       "    \u001b[32m'ancestor_ids'\u001b[0m: \u001b[1m[\u001b[0m\n",
       "        \u001b[1;36m48460\u001b[0m,\n",
       "        \u001b[1;36m1\u001b[0m,\n",
       "        \u001b[1;36m47120\u001b[0m,\n",
       "        \u001b[1;36m245097\u001b[0m,\n",
       "        \u001b[1;36m47119\u001b[0m,\n",
       "        \u001b[1;36m47118\u001b[0m,\n",
       "        \u001b[1;36m120474\u001b[0m,\n",
       "        \u001b[1;36m342614\u001b[0m,\n",
       "        \u001b[1;36m319384\u001b[0m,\n",
       "        \u001b[1;36m47371\u001b[0m,\n",
       "        \u001b[1;36m47370\u001b[0m,\n",
       "        \u001b[1;36m47383\u001b[0m\n",
       "    \u001b[1m]\u001b[0m,\n",
       "    \u001b[32m'photos_locked'\u001b[0m: \u001b[3;91mFalse\u001b[0m,\n",
       "    \u001b[32m'taxon_schemes_count'\u001b[0m: \u001b[1;36m2\u001b[0m,\n",
       "    \u001b[32m'wikipedia_url'\u001b[0m: \u001b[32m'http://en.wikipedia.org/wiki/Latrodectus_geometricus'\u001b[0m,\n",
       "    \u001b[32m'current_synonymous_taxon_ids'\u001b[0m: \u001b[3;35mNone\u001b[0m,\n",
       "    \u001b[32m'created_at'\u001b[0m: \u001b[32m'2008-05-06T21:06:19+00:00'\u001b[0m,\n",
       "    \u001b[32m'taxon_changes_count'\u001b[0m: \u001b[1;36m0\u001b[0m,\n",
       "    \u001b[32m'complete_species_count'\u001b[0m: \u001b[3;35mNone\u001b[0m,\n",
       "    \u001b[32m'universal_search_rank'\u001b[0m: \u001b[1;36m9289\u001b[0m,\n",
       "    \u001b[32m'observations_count'\u001b[0m: \u001b[1;36m9289\u001b[0m,\n",
       "    \u001b[32m'flag_counts'\u001b[0m: \u001b[1m{\u001b[0m\u001b[32m'resolved'\u001b[0m: \u001b[1;36m0\u001b[0m, \u001b[32m'unresolved'\u001b[0m: \u001b[1;36m0\u001b[0m\u001b[1m}\u001b[0m,\n",
       "    \u001b[32m'atlas_id'\u001b[0m: \u001b[1;36m28692\u001b[0m,\n",
       "    \u001b[32m'complete_rank'\u001b[0m: \u001b[32m'subspecies'\u001b[0m,\n",
       "    \u001b[32m'default_photo'\u001b[0m: \u001b[1m{\u001b[0m\n",
       "        \u001b[32m'id'\u001b[0m: \u001b[1;36m32258527\u001b[0m,\n",
       "        \u001b[32m'license_code'\u001b[0m: \u001b[3;35mNone\u001b[0m,\n",
       "        \u001b[32m'attribution'\u001b[0m: \u001b[32m'\u001b[0m\u001b[32m(\u001b[0m\u001b[32mc\u001b[0m\u001b[32m)\u001b[0m\u001b[32m Vinícius Souza, todos los derechos reservados'\u001b[0m,\n",
       "        \u001b[32m'url'\u001b[0m: \u001b[32m'https://static.inaturalist.org/photos/32258527/square.jpg?1551592956'\u001b[0m,\n",
       "        \u001b[32m'original_dimensions'\u001b[0m: \u001b[1m{\u001b[0m\u001b[32m'height'\u001b[0m: \u001b[1;36m1536\u001b[0m, \u001b[32m'width'\u001b[0m: \u001b[1;36m2048\u001b[0m\u001b[1m}\u001b[0m,\n",
       "        \u001b[32m'flags'\u001b[0m: \u001b[1m[\u001b[0m\u001b[1m]\u001b[0m,\n",
       "        \u001b[32m'square_url'\u001b[0m: \u001b[32m'https://static.inaturalist.org/photos/32258527/square.jpg?1551592956'\u001b[0m,\n",
       "        \u001b[32m'medium_url'\u001b[0m: \u001b[32m'https://static.inaturalist.org/photos/32258527/medium.jpg?1551592956'\u001b[0m\n",
       "    \u001b[1m}\u001b[0m,\n",
       "    \u001b[32m'iconic_taxon_name'\u001b[0m: \u001b[32m'Arachnida'\u001b[0m,\n",
       "    \u001b[32m'preferred_common_name'\u001b[0m: \u001b[32m'Brown Widow'\u001b[0m,\n",
       "    \u001b[32m'establishment_means'\u001b[0m: \u001b[1m{\u001b[0m\n",
       "        \u001b[32m'id'\u001b[0m: \u001b[1;36m3011263\u001b[0m,\n",
       "        \u001b[32m'place_id'\u001b[0m: \u001b[1;36m23\u001b[0m,\n",
       "        \u001b[32m'user_id'\u001b[0m: \u001b[1;36m5692\u001b[0m,\n",
       "        \u001b[32m'occurrence_status_level'\u001b[0m: \u001b[3;35mNone\u001b[0m,\n",
       "        \u001b[32m'establishment_means'\u001b[0m: \u001b[32m'introduced'\u001b[0m\n",
       "    \u001b[1m}\u001b[0m,\n",
       "    \u001b[32m'preferred_establishment_means'\u001b[0m: \u001b[32m'introduced'\u001b[0m\n",
       "\u001b[1m}\u001b[0m\n"
      ]
     },
     "metadata": {}
    }
   ],
   "metadata": {}
  },
  {
   "cell_type": "code",
   "execution_count": 34,
   "source": [
    "dfSep = pd.DataFrame(observationsSep['results'])\n",
    "dfSep['iconic_taxon_name'] = \"\"\n",
    "i = 0\n",
    "for dict in dfSep['taxon']:\n",
    "    dfSep.at[i,'iconic_taxon_name'] = dict['iconic_taxon_name']\n",
    "    i = i+1\n",
    "dfSep['iconic_taxon_name'].unique()\n"
   ],
   "outputs": [
    {
     "output_type": "display_data",
     "data": {
      "text/html": [
       "<pre style=\"white-space:pre;overflow-x:auto;line-height:normal;font-family:Menlo,'DejaVu Sans Mono',consolas,'Courier New',monospace\">\n",
       "<span style=\"color: #800080; text-decoration-color: #800080; font-weight: bold\">array</span><span style=\"font-weight: bold\">([</span><span style=\"color: #008000; text-decoration-color: #008000\">'Arachnida'</span>, <span style=\"color: #008000; text-decoration-color: #008000\">'Insecta'</span>, <span style=\"color: #008000; text-decoration-color: #008000\">'Plantae'</span>, <span style=\"color: #008000; text-decoration-color: #008000\">'Mollusca'</span>, <span style=\"color: #008000; text-decoration-color: #008000\">'Animalia'</span>,\n",
       "       <span style=\"color: #008000; text-decoration-color: #008000\">'Reptilia'</span>, <span style=\"color: #008000; text-decoration-color: #008000\">'Mammalia'</span>, <span style=\"color: #008000; text-decoration-color: #008000\">'Aves'</span><span style=\"font-weight: bold\">]</span>, <span style=\"color: #808000; text-decoration-color: #808000\">dtype</span>=<span style=\"color: #800080; text-decoration-color: #800080\">object</span><span style=\"font-weight: bold\">)</span>\n",
       "</pre>\n"
      ],
      "text/plain": [
       "\n",
       "\u001b[1;35marray\u001b[0m\u001b[1m(\u001b[0m\u001b[1m[\u001b[0m\u001b[32m'Arachnida'\u001b[0m, \u001b[32m'Insecta'\u001b[0m, \u001b[32m'Plantae'\u001b[0m, \u001b[32m'Mollusca'\u001b[0m, \u001b[32m'Animalia'\u001b[0m,\n",
       "       \u001b[32m'Reptilia'\u001b[0m, \u001b[32m'Mammalia'\u001b[0m, \u001b[32m'Aves'\u001b[0m\u001b[1m]\u001b[0m, \u001b[33mdtype\u001b[0m=\u001b[35mobject\u001b[0m\u001b[1m)\u001b[0m\n"
      ]
     },
     "metadata": {}
    }
   ],
   "metadata": {}
  },
  {
   "cell_type": "code",
   "execution_count": null,
   "source": [],
   "outputs": [],
   "metadata": {}
  }
 ],
 "metadata": {
  "orig_nbformat": 4,
  "language_info": {
   "name": "python",
   "version": "3.8.8",
   "mimetype": "text/x-python",
   "codemirror_mode": {
    "name": "ipython",
    "version": 3
   },
   "pygments_lexer": "ipython3",
   "nbconvert_exporter": "python",
   "file_extension": ".py"
  },
  "kernelspec": {
   "name": "python3",
   "display_name": "Python 3.8.8 64-bit ('base': conda)"
  },
  "interpreter": {
   "hash": "6ae5a69d51937321194477b0fe6b784bc91adc50b6dc6daadd06e0a4296b18e7"
  }
 },
 "nbformat": 4,
 "nbformat_minor": 2
}